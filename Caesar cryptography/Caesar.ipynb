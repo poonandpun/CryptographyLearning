{
 "cells": [
  {
   "cell_type": "code",
   "execution_count": 37,
   "metadata": {},
   "outputs": [],
   "source": [
    "Alphabet = ' ABCDEFGHIJKLMNOPQRSTUVWXYZ'\n",
    "key = 3"
   ]
  },
  {
   "cell_type": "code",
   "execution_count": 38,
   "metadata": {},
   "outputs": [],
   "source": [
    "def caesar_encrypt(plain_text):\n",
    "    #in Alpahbet is only upper case characters\n",
    "    plain_text.upper()\n",
    "    #create cipher\n",
    "    cipher_text = ''\n",
    "    for c in plain_text:\n",
    "        #find index of leter\n",
    "        index = Alphabet.find(c)\n",
    "        #shift index with key\n",
    "        index = (index + key) % len(Alphabet)\n",
    "        cipher_text =cipher_text + Alphabet[index]\n",
    "    return cipher_text\n"
   ]
  },
  {
   "cell_type": "code",
   "execution_count": 39,
   "metadata": {},
   "outputs": [],
   "source": [
    "def caesar_decrpt(cipher_text):\n",
    "    plain_text = ''\n",
    "    for c in cipher_text:\n",
    "        index = Alphabet.find(c)\n",
    "        index = (index - key) % len(Alphabet)\n",
    "        plain_text = plain_text +  Alphabet[index]\n",
    "    return plain_text"
   ]
  },
  {
   "cell_type": "code",
   "execution_count": 40,
   "metadata": {},
   "outputs": [
    {
     "name": "stdout",
     "output_type": "stream",
     "text": [
      "KBBBB\n",
      "HZZZZ\n"
     ]
    }
   ],
   "source": [
    "testing = 'Hello'\n",
    "cipher = caesar_encrypt(testing)\n",
    "plain = caesar_decrpt(cipher)\n",
    "print(cipher)\n",
    "print(plain)"
   ]
  },
  {
   "cell_type": "code",
   "execution_count": null,
   "metadata": {},
   "outputs": [],
   "source": []
  }
 ],
 "metadata": {
  "interpreter": {
   "hash": "c7e1e06400f7f2663218364c7e34f8481749964f234c603c082d3aa872eb7235"
  },
  "kernelspec": {
   "display_name": "Python 3.9.18 64-bit (conda)",
   "language": "python",
   "name": "python3"
  },
  "language_info": {
   "codemirror_mode": {
    "name": "ipython",
    "version": 3
   },
   "file_extension": ".py",
   "mimetype": "text/x-python",
   "name": "python",
   "nbconvert_exporter": "python",
   "pygments_lexer": "ipython3",
   "version": "3.9.18"
  },
  "orig_nbformat": 4
 },
 "nbformat": 4,
 "nbformat_minor": 2
}
